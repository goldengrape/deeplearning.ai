{
 "cells": [
  {
   "cell_type": "markdown",
   "metadata": {},
   "source": [
    "# 并联网络\n",
    "\n",
    "仿照ResNet, 建立并联网络. \n",
    "\n",
    "其中并联网络可以是: \n",
    "* 主路径为全连接网络, 捷径为identity或全连接网络\n",
    "* 主路径为Conv2d网络, 捷径为identiy或Conv2d网络\n",
    "* \\>=2条路径\n",
    "* 必要时并联网络可以级联\n",
    "\n",
    "本程序中大量参考deeplearning.ai第4门课中第2周的作业ResNet"
   ]
  },
  {
   "cell_type": "code",
   "execution_count": 1,
   "metadata": {
    "ExecuteTime": {
     "end_time": "2017-11-17T17:45:57.242249Z",
     "start_time": "2017-11-17T17:45:52.995476Z"
    }
   },
   "outputs": [
    {
     "name": "stderr",
     "output_type": "stream",
     "text": [
      "Using TensorFlow backend.\n"
     ]
    }
   ],
   "source": [
    "import numpy as np\n",
    "from keras import layers\n",
    "from keras.layers import Input, Add, Dense, Activation, ZeroPadding2D, BatchNormalization\n",
    "from keras.layers import Flatten, Reshape\n",
    "from keras.layers import Conv2D, AveragePooling2D, MaxPooling2D, GlobalMaxPooling2D\n",
    "from keras.models import Model, load_model\n",
    "from keras.preprocessing import image\n",
    "from keras.utils import layer_utils\n",
    "from keras.utils.data_utils import get_file\n",
    "from keras.applications.imagenet_utils import preprocess_input\n",
    "# import pydot\n",
    "from IPython.display import SVG\n",
    "from keras.utils.vis_utils import model_to_dot\n",
    "from keras.utils import plot_model\n",
    "from resnets_utils import *\n",
    "from keras.initializers import glorot_uniform\n",
    "import scipy.misc\n",
    "from matplotlib.pyplot import imshow\n",
    "%matplotlib inline\n",
    "\n",
    "import keras.backend as K\n",
    "K.set_image_data_format('channels_last')\n",
    "K.set_learning_phase(1)"
   ]
  },
  {
   "cell_type": "markdown",
   "metadata": {},
   "source": [
    "# 并联\n",
    "仿照并联电路的设定, 数据X同时流向多条路径, 经过每条路径的处理后再汇集到一起"
   ]
  },
  {
   "cell_type": "code",
   "execution_count": null,
   "metadata": {
    "ExecuteTime": {
     "end_time": "2017-11-17T16:51:24.728238Z",
     "start_time": "2017-11-17T16:51:24.713639Z"
    },
    "collapsed": true
   },
   "outputs": [],
   "source": []
  },
  {
   "cell_type": "markdown",
   "metadata": {},
   "source": [
    "# 分支路径举例"
   ]
  },
  {
   "cell_type": "markdown",
   "metadata": {},
   "source": [
    "## 短路路径"
   ]
  },
  {
   "cell_type": "code",
   "execution_count": 2,
   "metadata": {
    "ExecuteTime": {
     "end_time": "2017-11-17T17:45:57.246848Z",
     "start_time": "2017-11-17T17:45:57.244140Z"
    },
    "collapsed": true
   },
   "outputs": [],
   "source": [
    "def identify_path(X):\n",
    "    return X"
   ]
  },
  {
   "cell_type": "markdown",
   "metadata": {},
   "source": [
    "## 全连接路径"
   ]
  },
  {
   "cell_type": "code",
   "execution_count": 3,
   "metadata": {
    "ExecuteTime": {
     "end_time": "2017-11-17T17:45:57.287457Z",
     "start_time": "2017-11-17T17:45:57.249518Z"
    },
    "collapsed": true
   },
   "outputs": [],
   "source": [
    "def FC_path(X,dense_list,act_list):\n",
    "    # 获取原shape\n",
    "    origin_shape=X.get_shape().as_list()[1:]\n",
    "\n",
    "    # 展平主路径, 如果不是m,n_H,n_W,n_C形式的, 则不需要使用Flatten\n",
    "    if len(origin_shape)>=3:\n",
    "        X = Flatten()(X) # Flatten\n",
    "\n",
    "    # 主路径添加全连接层\n",
    "    for stage in range(len(dense_list)):\n",
    "        d=dense_list[stage]\n",
    "        if d == None:\n",
    "            d=np.prod(origin_shape)\n",
    "        act=act_list[stage]\n",
    "        X = Dense(d, \n",
    "              activation=act, name='fc_main_' + str(stage), \n",
    "              kernel_initializer = glorot_uniform(seed=0))(X)\n",
    "    X = Reshape(origin_shape)(X)\n",
    "    return X  "
   ]
  },
  {
   "cell_type": "markdown",
   "metadata": {},
   "source": [
    "## 卷积路径"
   ]
  },
  {
   "cell_type": "code",
   "execution_count": 4,
   "metadata": {
    "ExecuteTime": {
     "end_time": "2017-11-17T17:45:57.388830Z",
     "start_time": "2017-11-17T17:45:57.290384Z"
    }
   },
   "outputs": [],
   "source": [
    "def conv2d_block(X,f, filter_list, kernel_list,stride_list,padding_list,act_list):\n",
    "    \n",
    "    for idx in range(len(filter_list)):\n",
    "    # First component of main path\n",
    "        X = Conv2D(filters = filter_list[idx], \n",
    "                   kernel_size =kernel_list[idx], \n",
    "                   strides = stride_list[idx], \n",
    "                   padding = padding_list[idx], \n",
    "                   kernel_initializer = glorot_uniform(seed=0))(X)\n",
    "        X = BatchNormalization(axis = -1)(X)\n",
    "        X = Activation(act_list[idx])(X)\n",
    "    return X\n",
    "\n",
    "def conv2d_3_path(X,f,s,filter_list):\n",
    "    kernel_list=[(1,1),(f,f),(1,1)]\n",
    "    stride_list=[(s,s),(1,1),(1,1)]\n",
    "    padding_list=['valid','same','valid']\n",
    "    act_list=['relu','relu',None]\n",
    "    return conv2d_block(X,f, filter_list, kernel_list,stride_list,padding_list,act_list)\n",
    "\n",
    "def conv2d_1_path(X,f,s,filter_list):\n",
    "    filters =[(filter_list[-1])]\n",
    "    kernel_list=[(1,1)]\n",
    "    stride_list=[(s,s)]\n",
    "    padding_list=['valid']\n",
    "    act_list=[None]\n",
    "    return conv2d_block(X,f, filters, kernel_list,stride_list,padding_list,act_list)"
   ]
  },
  {
   "cell_type": "markdown",
   "metadata": {},
   "source": [
    "# 并联\n",
    "* identify_FC_block: 并联短路与全连接路径\n",
    "* identify_conv_block:  并联短路与卷积路径"
   ]
  },
  {
   "cell_type": "code",
   "execution_count": 15,
   "metadata": {
    "ExecuteTime": {
     "end_time": "2017-11-17T17:50:57.586496Z",
     "start_time": "2017-11-17T17:50:57.568013Z"
    }
   },
   "outputs": [],
   "source": [
    "def identify_FC_block(X,dense_list,act_list,last_activation):\n",
    "    X=Add()([identify_path(X),FC_path(X,dense_list,act_list)])\n",
    "    X=Activation(last_activation)(X)\n",
    "    return(X)\n",
    "\n",
    "def identity_block(X,f,filter_list):\n",
    "    X=Add()([identify_path(X),conv2d_3_path(X,f,1,filter_list)])\n",
    "    X=Activation('relu')(X)\n",
    "    return(X)\n",
    "\n",
    "def convolutional_block(X,f,filter_list):\n",
    "    X=Add()([conv2d_3_path(X,f,2,filter_list),conv2d_1_path(X,f,2,filter_list)])\n",
    "    X=Activation('relu')(X)\n",
    "    return(X)\n",
    "    "
   ]
  },
  {
   "cell_type": "markdown",
   "metadata": {},
   "source": [
    "# 测试"
   ]
  },
  {
   "cell_type": "code",
   "execution_count": 17,
   "metadata": {
    "ExecuteTime": {
     "end_time": "2017-11-17T17:52:28.177292Z",
     "start_time": "2017-11-17T17:52:27.958901Z"
    }
   },
   "outputs": [
    {
     "name": "stdout",
     "output_type": "stream",
     "text": [
      "out = [ 0.13068038  0.          1.4126066   1.94239473  0.          1.31495869]\n"
     ]
    }
   ],
   "source": [
    "if __name__==\"__main__\":\n",
    "    tf.reset_default_graph()\n",
    "\n",
    "    with tf.Session() as test:\n",
    "        np.random.seed(1)\n",
    "        A_prev = tf.placeholder(\"float\", [3, 4, 4, 6])\n",
    "        X = np.random.randn(3, 4, 4, 6)\n",
    "#         A = identity_block(A_prev, f = 2, filter_list = [2, 4, 6])\n",
    "        A=identify_FC_block(A_prev,[32,32,None],['relu','relu',None],'relu')\n",
    "        test.run(tf.global_variables_initializer())\n",
    "        out = test.run([A], feed_dict={A_prev: X, K.learning_phase(): 0})\n",
    "        print(\"out = \" + str(out[0][1][1][0]))\n"
   ]
  },
  {
   "cell_type": "markdown",
   "metadata": {
    "collapsed": true
   },
   "source": [
    "# ResNet50\n",
    "\n",
    "<img src=\"images/resnet_kiank.png\" style=\"width:850px;height:150px;\">\n",
    "<caption><center> <u> <font color='purple'> **Figure 5** </u><font color='purple'>  : **ResNet-50 model** </center></caption>\n",
    "\n",
    "The details of this ResNet-50 model are:\n",
    "- Zero-padding pads the input with a pad of (3,3)\n",
    "- Stage 1:\n",
    "    - The 2D Convolution has 64 filters of shape (7,7) and uses a stride of (2,2). Its name is \"conv1\".\n",
    "    - BatchNorm is applied to the channels axis of the input.\n",
    "    - MaxPooling uses a (3,3) window and a (2,2) stride.\n",
    "- Stage 2:\n",
    "    - The convolutional block uses three set of filters of size [64,64,256], \"f\" is 3, \"s\" is 1 and the block is \"a\".\n",
    "    - The 2 identity blocks use three set of filters of size [64,64,256], \"f\" is 3 and the blocks are \"b\" and \"c\".\n",
    "- Stage 3:\n",
    "    - The convolutional block uses three set of filters of size [128,128,512], \"f\" is 3, \"s\" is 2 and the block is \"a\".\n",
    "    - The 3 identity blocks use three set of filters of size [128,128,512], \"f\" is 3 and the blocks are \"b\", \"c\" and \"d\".\n",
    "- Stage 4:\n",
    "    - The convolutional block uses three set of filters of size [256, 256, 1024], \"f\" is 3, \"s\" is 2 and the block is \"a\".\n",
    "    - The 5 identity blocks use three set of filters of size [256, 256, 1024], \"f\" is 3 and the blocks are \"b\", \"c\", \"d\", \"e\" and \"f\".\n",
    "- Stage 5:\n",
    "    - The convolutional block uses three set of filters of size [512, 512, 2048], \"f\" is 3, \"s\" is 2 and the block is \"a\".\n",
    "    - The 2 identity blocks use three set of filters of size [512, 512, 2048], \"f\" is 3 and the blocks are \"b\" and \"c\".\n",
    "- The 2D Average Pooling uses a window of shape (2,2) and its name is \"avg_pool\".\n",
    "- The flatten doesn't have any hyperparameters or name.\n",
    "- The Fully Connected (Dense) layer reduces its input to the number of classes using a softmax activation. Its name should be `'fc' + str(classes)`."
   ]
  },
  {
   "cell_type": "code",
   "execution_count": 25,
   "metadata": {
    "ExecuteTime": {
     "end_time": "2017-11-18T03:41:05.044934Z",
     "start_time": "2017-11-18T03:41:05.016523Z"
    }
   },
   "outputs": [
    {
     "name": "stdout",
     "output_type": "stream",
     "text": [
      "<keras.engine.training.Model object at 0x124990ac8>\n"
     ]
    }
   ],
   "source": [
    "input_shape=(64, 64, 3)\n",
    "X_input = Input(input_shape)\n",
    "# Zero-Padding\n",
    "X = ZeroPadding2D((3, 3))(X_input)\n",
    "model = Model(inputs = X_input, outputs = X, name='ResNet50')\n",
    "\n",
    "print(model)"
   ]
  },
  {
   "cell_type": "code",
   "execution_count": null,
   "metadata": {
    "collapsed": true
   },
   "outputs": [],
   "source": []
  }
 ],
 "metadata": {
  "kernelspec": {
   "display_name": "Python 3",
   "language": "python",
   "name": "python3"
  },
  "language_info": {
   "codemirror_mode": {
    "name": "ipython",
    "version": 3
   },
   "file_extension": ".py",
   "mimetype": "text/x-python",
   "name": "python",
   "nbconvert_exporter": "python",
   "pygments_lexer": "ipython3",
   "version": "3.5.2"
  },
  "toc": {
   "colors": {
    "hover_highlight": "#DAA520",
    "navigate_num": "#000000",
    "navigate_text": "#333333",
    "running_highlight": "#FF0000",
    "selected_highlight": "#FFD700",
    "sidebar_border": "#EEEEEE",
    "wrapper_background": "#FFFFFF"
   },
   "moveMenuLeft": true,
   "nav_menu": {
    "height": "92px",
    "width": "254px"
   },
   "navigate_menu": true,
   "number_sections": true,
   "sideBar": true,
   "threshold": 4,
   "toc_cell": false,
   "toc_section_display": "block",
   "toc_window_display": false,
   "widenNotebook": false
  }
 },
 "nbformat": 4,
 "nbformat_minor": 2
}
