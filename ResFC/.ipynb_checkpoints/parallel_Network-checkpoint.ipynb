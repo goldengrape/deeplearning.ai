{
 "cells": [
  {
   "cell_type": "markdown",
   "metadata": {},
   "source": [
    "# 并联网络\n",
    "\n",
    "仿照ResNet, 建立并联网络. \n",
    "\n",
    "其中并联网络可以是: \n",
    "* 主路径为全连接网络, 捷径为identity或全连接网络\n",
    "* 主路径为Conv2d网络, 捷径为identiy或Conv2d网络\n",
    "* \\>=2条路径\n",
    "* 必要时并联网络可以级联\n",
    "\n",
    "本程序中大量参考deeplearning.ai第4门课中第2周的作业ResNet"
   ]
  },
  {
   "cell_type": "code",
   "execution_count": 137,
   "metadata": {
    "ExecuteTime": {
     "end_time": "2017-11-17T09:00:37.218015Z",
     "start_time": "2017-11-17T09:00:37.174659Z"
    }
   },
   "outputs": [],
   "source": [
    "import numpy as np\n",
    "from keras import layers\n",
    "from keras.layers import Input, Add, Dense, Activation, ZeroPadding2D, BatchNormalization\n",
    "from keras.layers import Flatten, Reshape\n",
    "from keras.layers import Conv2D, AveragePooling2D, MaxPooling2D, GlobalMaxPooling2D\n",
    "from keras.models import Model, load_model\n",
    "from keras.preprocessing import image\n",
    "from keras.utils import layer_utils\n",
    "from keras.utils.data_utils import get_file\n",
    "from keras.applications.imagenet_utils import preprocess_input\n",
    "# import pydot\n",
    "from IPython.display import SVG\n",
    "from keras.utils.vis_utils import model_to_dot\n",
    "from keras.utils import plot_model\n",
    "from resnets_utils import *\n",
    "from keras.initializers import glorot_uniform\n",
    "import scipy.misc\n",
    "from matplotlib.pyplot import imshow\n",
    "%matplotlib inline\n",
    "\n",
    "import keras.backend as K\n",
    "K.set_image_data_format('channels_last')\n",
    "K.set_learning_phase(1)"
   ]
  },
  {
   "cell_type": "markdown",
   "metadata": {},
   "source": [
    "# 并联\n",
    "仿照并联电路的设定, 数据X同时流向多条路径, 经过每条路径的处理后再汇集到一起"
   ]
  },
  {
   "cell_type": "code",
   "execution_count": 138,
   "metadata": {
    "ExecuteTime": {
     "end_time": "2017-11-17T09:02:19.336183Z",
     "start_time": "2017-11-17T09:02:19.327180Z"
    },
    "collapsed": true
   },
   "outputs": [],
   "source": [
    "def parallel_connection(X,pathNet_list,activation):\n",
    "    X_branch=[pathNet(X) for pathNet in pathNet_list]\n",
    "    for each_branch in X_branch:\n",
    "        assert X.get_shape().as_list()[1:]==each_branch.get_shape().as_list()[1:]\n",
    "    X=Add()(X_branch)\n",
    "    X=Activation(activation)(X)\n",
    "    return X"
   ]
  },
  {
   "cell_type": "markdown",
   "metadata": {},
   "source": [
    "## 并联路径示意"
   ]
  },
  {
   "cell_type": "code",
   "execution_count": 139,
   "metadata": {
    "ExecuteTime": {
     "end_time": "2017-11-17T09:02:23.176406Z",
     "start_time": "2017-11-17T09:02:23.143221Z"
    },
    "collapsed": true
   },
   "outputs": [],
   "source": [
    "def identify_path(X):\n",
    "    return X\n",
    "\n",
    "def FC_path(X):\n",
    "    dense_list=[32,32]\n",
    "    activation_list=['relu','relu']\n",
    "    \n",
    "    def fc(X,dense_list,activation_list):\n",
    "        # 获取原shape\n",
    "        origin_shape=X.get_shape().as_list()[1:]\n",
    "        \n",
    "        # 展平主路径, 如果不是m,n_H,n_W,n_C形式的, 则不需要使用Flatten\n",
    "        if len(origin_shape)>=3:\n",
    "            X = Flatten()(X) # Flatten\n",
    "\n",
    "        # 主路径添加全连接层\n",
    "        for stage in range(len(dense_list)):\n",
    "            d=dense_list[stage]\n",
    "            act=activation_list[stage]\n",
    "            X = Dense(d, \n",
    "                  activation=act, name='fc_main_' + str(stage), \n",
    "                  kernel_initializer = glorot_uniform(seed=0))(X)\n",
    "        # 合并前一层, 维度重整, 无激活函数\n",
    "        X = Dense(np.prod(origin_shape),\n",
    "                  activation=None, name='fc_main_' + str(stage), \n",
    "                  kernel_initializer = glorot_uniform(seed=0))(X)\n",
    "        X = Reshape(origin_shape)(X)\n",
    "        return X\n",
    "    X=fc(X,dense_list,activation_list)\n",
    "    return X\n",
    "    "
   ]
  },
  {
   "cell_type": "code",
   "execution_count": 140,
   "metadata": {
    "ExecuteTime": {
     "end_time": "2017-11-17T09:02:26.036563Z",
     "start_time": "2017-11-17T09:02:26.031159Z"
    }
   },
   "outputs": [],
   "source": [
    "def identify_FC_block(X):\n",
    "    pathNet_list=[identify_path,FC_path]\n",
    "    activation='relu'\n",
    "    X = parallel_connection(X,pathNet_list,activation)\n",
    "    return(X)"
   ]
  },
  {
   "cell_type": "code",
   "execution_count": 142,
   "metadata": {
    "ExecuteTime": {
     "end_time": "2017-11-17T09:02:34.841990Z",
     "start_time": "2017-11-17T09:02:34.651093Z"
    }
   },
   "outputs": [
    {
     "name": "stdout",
     "output_type": "stream",
     "text": [
      "out = [ 0.13068038  0.          1.4126066   1.94239473  0.          1.31495869]\n"
     ]
    }
   ],
   "source": [
    "tf.reset_default_graph()\n",
    "\n",
    "with tf.Session() as test:\n",
    "    np.random.seed(1)\n",
    "    A_prev = tf.placeholder(\"float\", [3, 4,4 ,6])\n",
    "    X = np.random.randn(3,4,4 ,6)\n",
    "    dense_list=[32]\n",
    "    activation_list=[\"relu\"]\n",
    "    A = identify_FC_block(A_prev)\n",
    "    test.run(tf.global_variables_initializer())\n",
    "    out = test.run([A], feed_dict={A_prev: X, K.learning_phase(): 0})\n",
    "    print(\"out = \" + str(out[0][1][1][0]))\n"
   ]
  },
  {
   "cell_type": "code",
   "execution_count": null,
   "metadata": {
    "collapsed": true
   },
   "outputs": [],
   "source": []
  },
  {
   "cell_type": "code",
   "execution_count": null,
   "metadata": {
    "collapsed": true
   },
   "outputs": [],
   "source": []
  }
 ],
 "metadata": {
  "kernelspec": {
   "display_name": "Python 3",
   "language": "python",
   "name": "python3"
  },
  "language_info": {
   "codemirror_mode": {
    "name": "ipython",
    "version": 3
   },
   "file_extension": ".py",
   "mimetype": "text/x-python",
   "name": "python",
   "nbconvert_exporter": "python",
   "pygments_lexer": "ipython3",
   "version": "3.5.2"
  },
  "toc": {
   "colors": {
    "hover_highlight": "#DAA520",
    "navigate_num": "#000000",
    "navigate_text": "#333333",
    "running_highlight": "#FF0000",
    "selected_highlight": "#FFD700",
    "sidebar_border": "#EEEEEE",
    "wrapper_background": "#FFFFFF"
   },
   "moveMenuLeft": true,
   "nav_menu": {
    "height": "70px",
    "width": "254px"
   },
   "navigate_menu": true,
   "number_sections": true,
   "sideBar": true,
   "threshold": 4,
   "toc_cell": false,
   "toc_section_display": "block",
   "toc_window_display": false,
   "widenNotebook": false
  }
 },
 "nbformat": 4,
 "nbformat_minor": 2
}
